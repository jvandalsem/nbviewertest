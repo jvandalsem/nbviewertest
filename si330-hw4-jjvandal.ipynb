{
 "cells": [
  {
   "cell_type": "markdown",
   "metadata": {},
   "source": [
    "# HW 4 - SQL\n",
    "\n",
    "\n",
    "## Due: Friday, Oct 12, 2018, 11:59:00pm\n",
    "\n",
    "### Submission instructions\n",
    "After completing this homework, you will turn in two files via Canvas ->  Assignments -> HW 4:\n",
    "- Your Notebook, named si330-hw4-YOUR_UNIQUE_NAME.ipynb and\n",
    "- the HTML file, named si330-hw4-YOUR_UNIQUE_NAME.html\n",
    "\n",
    "### Name: John Van Dalsem\n",
    "### Uniqname: jjvandal\n",
    "### People you worked with: Will Godley, Trevor Woods\n"
   ]
  },
  {
   "cell_type": "markdown",
   "metadata": {},
   "source": [
    "## Part 0: Setup and Database"
   ]
  },
  {
   "cell_type": "code",
   "execution_count": 3,
   "metadata": {},
   "outputs": [],
   "source": [
    "import sqlite3 as sqlite"
   ]
  },
  {
   "cell_type": "markdown",
   "metadata": {},
   "source": [
    "We have provided you with an SQLite database in `chinook.db`. This database contains the following tables:\n",
    "\n",
    "- `artists`: Musical artists, each with an artist id and name.\n",
    "- `albums`: Musical albums. Each album belongs to one artist. However, one artist may have multiple albums.\n",
    "- `tracks`: Songs. Each track belongs to one album.\n",
    "- `invoices` and `invoice_items`: Purchase invoices. Each invoice represents a single purchase, associated with one or more invoice items. Each invoice item represents the purchase of a single track, the dollar amount paid, and the quantity.\n",
    "- `employees`: Employees, each with an employee id, last name, first name, etc. It also has a field named ReportsTo to specify who reports to whom.\n",
    "- `customers`: Customers.\n",
    "- `media_types`: Media types, such as MPEG audio file, ACC audio file, etc.\n",
    "- `genres`: Music types such as rock, jazz, metal, etc.\n",
    "- `playlists` and `playlist_track`: Musical playlists. Each playlist contains a list of tracks. Each track may belong to multiple playlists. The relationship between the playlists table and tracks table is many-to-many. The playlist_track table is used to reflect this relationship.\n",
    " "
   ]
  },
  {
   "cell_type": "markdown",
   "metadata": {},
   "source": [
    "A schematic view of this database is below:\n",
    "    \n",
    "![The chinook database](chinook.png)"
   ]
  },
  {
   "cell_type": "markdown",
   "metadata": {},
   "source": [
    "### Part 0.1: SQLite DB Browser\n",
    "\n",
    "As in the lab, we recommend that you use an SQLite GUI, like the [SQLite DB Browser](http://sqlitebrowser.org/), to browse the database and test your queries."
   ]
  },
  {
   "cell_type": "markdown",
   "metadata": {},
   "source": [
    "## Part 1: Connect to database\n",
    "\n",
    "Insert the code to:\n",
    "- connect to the database in `chinook.db` using a variable called `con`\n",
    "- set up a row factory so that results from the database are returned as dictionary-like objects.\n",
    "- and open a cursor to execute queries from (in a variable called `cur`)\n"
   ]
  },
  {
   "cell_type": "code",
   "execution_count": 4,
   "metadata": {},
   "outputs": [],
   "source": [
    "con = sqlite.connect('chinook.db')\n",
    "con.row_factory = sqlite.Row\n",
    "cur = con.cursor()"
   ]
  },
  {
   "cell_type": "markdown",
   "metadata": {},
   "source": [
    "## Part 2: Queries!"
   ]
  },
  {
   "cell_type": "markdown",
   "metadata": {},
   "source": [
    "Let's answer some questions about the database. Below each entry, insert the code to execute a query against the database and print out the answer."
   ]
  },
  {
   "cell_type": "markdown",
   "metadata": {},
   "source": [
    "**All questions in this part and the remaining sections of this assignment must be answered using SQL (apart from code to print out the result). You may not further process the data in python except to print the rows returned by your query.**"
   ]
  },
  {
   "cell_type": "markdown",
   "metadata": {},
   "source": [
    "**2.1** How many artists are in the database?"
   ]
  },
  {
   "cell_type": "code",
   "execution_count": 15,
   "metadata": {},
   "outputs": [
    {
     "name": "stdout",
     "output_type": "stream",
     "text": [
      "275\n"
     ]
    }
   ],
   "source": [
    "cur.execute('SELECT COUNT(*) from artists')\n",
    "for a in cur:\n",
    "    print(a[0])"
   ]
  },
  {
   "cell_type": "markdown",
   "metadata": {},
   "source": [
    "**2.2** Who are the top ten artists by number of **albums**? Print their names and the number of albums they have. (HINT: use the `LIMIT` clause to get just the top 10; **do not** use list slicing in python)."
   ]
  },
  {
   "cell_type": "code",
   "execution_count": 35,
   "metadata": {},
   "outputs": [
    {
     "name": "stdout",
     "output_type": "stream",
     "text": [
      "{'Name': 'Iron Maiden', 'Album_Count': 21}\n",
      "{'Name': 'Led Zeppelin', 'Album_Count': 14}\n",
      "{'Name': 'Deep Purple', 'Album_Count': 11}\n",
      "{'Name': 'Metallica', 'Album_Count': 10}\n",
      "{'Name': 'U2', 'Album_Count': 10}\n",
      "{'Name': 'Ozzy Osbourne', 'Album_Count': 6}\n",
      "{'Name': 'Pearl Jam', 'Album_Count': 5}\n",
      "{'Name': 'Faith No More', 'Album_Count': 4}\n",
      "{'Name': 'Foo Fighters', 'Album_Count': 4}\n",
      "{'Name': 'Lost', 'Album_Count': 4}\n"
     ]
    }
   ],
   "source": [
    "cur.execute('SELECT artists.Name, COUNT(albums.ArtistId) AS Album_Count FROM artists JOIN albums ON albums.ArtistId = artists.ArtistId GROUP BY artists.Name ORDER BY Album_Count DESC LIMIT 10')\n",
    "for a in cur:\n",
    "    print(dict(a))\n",
    "\n"
   ]
  },
  {
   "cell_type": "markdown",
   "metadata": {},
   "source": [
    "**2.3** Who are the top ten artists by number of **tracks**? Print their names and the number of tracks they have."
   ]
  },
  {
   "cell_type": "code",
   "execution_count": 36,
   "metadata": {},
   "outputs": [
    {
     "name": "stdout",
     "output_type": "stream",
     "text": [
      "{'Name': 'Iron Maiden', 'Track_Count': 213}\n",
      "{'Name': 'U2', 'Track_Count': 135}\n",
      "{'Name': 'Led Zeppelin', 'Track_Count': 114}\n",
      "{'Name': 'Metallica', 'Track_Count': 112}\n",
      "{'Name': 'Deep Purple', 'Track_Count': 92}\n",
      "{'Name': 'Lost', 'Track_Count': 92}\n",
      "{'Name': 'Pearl Jam', 'Track_Count': 67}\n",
      "{'Name': 'Lenny Kravitz', 'Track_Count': 57}\n",
      "{'Name': 'Various Artists', 'Track_Count': 56}\n",
      "{'Name': 'The Office', 'Track_Count': 53}\n"
     ]
    }
   ],
   "source": [
    "cur.execute('SELECT artists.Name, COUNT(tracks.TrackId) AS Track_Count FROM artists JOIN albums ON albums.ArtistId = artists.ArtistId JOIN tracks ON tracks.AlbumId = albums.AlbumId GROUP BY artists.Name ORDER BY Track_Count DESC LIMIT 10')\n",
    "for a in cur:\n",
    "    print(dict(a))"
   ]
  },
  {
   "cell_type": "markdown",
   "metadata": {},
   "source": [
    "**2.4** How many tracks are in the database?"
   ]
  },
  {
   "cell_type": "code",
   "execution_count": 37,
   "metadata": {},
   "outputs": [
    {
     "name": "stdout",
     "output_type": "stream",
     "text": [
      "3503\n"
     ]
    }
   ],
   "source": [
    "cur.execute('SELECT COUNT(*) from tracks')\n",
    "for a in cur:\n",
    "    print(a[0])"
   ]
  },
  {
   "cell_type": "markdown",
   "metadata": {},
   "source": [
    "**2.5** What are the top ten albums by number of purchases of any track off the album? For example, if two tracks were purchased off an album, that counts as two purchases for that album. Print the artist name, album, and the number of purchases."
   ]
  },
  {
   "cell_type": "code",
   "execution_count": 69,
   "metadata": {},
   "outputs": [
    {
     "name": "stdout",
     "output_type": "stream",
     "text": [
      "{'Name': 'Chico Buarque', 'Title': 'Minha Historia', 'Number_of_Purchases': 27}\n",
      "{'Name': 'Lenny Kravitz', 'Title': 'Greatest Hits', 'Number_of_Purchases': 26}\n",
      "{'Name': 'Eric Clapton', 'Title': 'Unplugged', 'Number_of_Purchases': 25}\n",
      "{'Name': 'Titãs', 'Title': 'Acústico', 'Number_of_Purchases': 22}\n",
      "{'Name': 'Kiss', 'Title': 'Greatest Kiss', 'Number_of_Purchases': 20}\n",
      "{'Name': 'Creedence Clearwater Revival', 'Title': 'Chronicle, Vol. 2', 'Number_of_Purchases': 19}\n",
      "{'Name': 'The Who', 'Title': 'My Generation - The Very Best Of The Who', 'Number_of_Purchases': 19}\n",
      "{'Name': 'Caetano Veloso', 'Title': 'Prenda Minha', 'Number_of_Purchases': 19}\n",
      "{'Name': 'Os Paralamas Do Sucesso', 'Title': 'Acústico MTV', 'Number_of_Purchases': 18}\n",
      "{'Name': 'Battlestar Galactica (Classic)', 'Title': 'Battlestar Galactica (Classic), Season 1', 'Number_of_Purchases': 18}\n"
     ]
    }
   ],
   "source": [
    "cur.execute('SELECT artists.Name, albums.Title, COUNT(invoice_items.TrackId) AS Number_of_Purchases FROM artists JOIN albums ON albums.ArtistId = artists.ArtistId JOIN tracks ON tracks.AlbumId = albums.AlbumId JOIN invoice_items ON invoice_items.TrackId = tracks.TrackId GROUP BY albums.Title ORDER BY Number_of_Purchases DESC LIMIT 10')\n",
    "for a in cur:\n",
    "    print(dict(a))"
   ]
  },
  {
   "cell_type": "markdown",
   "metadata": {},
   "source": [
    "**2.6** Who are the top ten artists by number of purchases of their tracks? Print the artist name and the number of purchases."
   ]
  },
  {
   "cell_type": "code",
   "execution_count": 70,
   "metadata": {},
   "outputs": [
    {
     "name": "stdout",
     "output_type": "stream",
     "text": [
      "{'Name': 'Iron Maiden', 'Number_of_Purchases': 140}\n",
      "{'Name': 'U2', 'Number_of_Purchases': 107}\n",
      "{'Name': 'Metallica', 'Number_of_Purchases': 91}\n",
      "{'Name': 'Led Zeppelin', 'Number_of_Purchases': 87}\n",
      "{'Name': 'Os Paralamas Do Sucesso', 'Number_of_Purchases': 45}\n",
      "{'Name': 'Deep Purple', 'Number_of_Purchases': 44}\n",
      "{'Name': 'Faith No More', 'Number_of_Purchases': 42}\n",
      "{'Name': 'Lost', 'Number_of_Purchases': 41}\n",
      "{'Name': 'Eric Clapton', 'Number_of_Purchases': 40}\n",
      "{'Name': 'R.E.M.', 'Number_of_Purchases': 39}\n"
     ]
    }
   ],
   "source": [
    "cur.execute('SELECT artists.Name, COUNT(invoice_items.TrackId) AS Number_of_Purchases FROM artists JOIN albums ON albums.ArtistId = artists.ArtistId JOIN tracks ON tracks.AlbumId = albums.AlbumId JOIN invoice_items ON invoice_items.TrackId = tracks.TrackId GROUP BY artists.Name ORDER BY Number_of_Purchases DESC LIMIT 10')\n",
    "for a in cur:\n",
    "    print(dict(a))"
   ]
  },
  {
   "cell_type": "markdown",
   "metadata": {},
   "source": [
    "**2.7** How many tracks were purchased by customers from each country in the database? Print each country name and the number of tracks."
   ]
  },
  {
   "cell_type": "code",
   "execution_count": 80,
   "metadata": {},
   "outputs": [
    {
     "name": "stdout",
     "output_type": "stream",
     "text": [
      "{'BillingCountry': 'USA', 'Purchased_Track_Count': 494}\n",
      "{'BillingCountry': 'Canada', 'Purchased_Track_Count': 304}\n",
      "{'BillingCountry': 'Brazil', 'Purchased_Track_Count': 190}\n",
      "{'BillingCountry': 'France', 'Purchased_Track_Count': 190}\n",
      "{'BillingCountry': 'Germany', 'Purchased_Track_Count': 152}\n",
      "{'BillingCountry': 'United Kingdom', 'Purchased_Track_Count': 114}\n",
      "{'BillingCountry': 'Czech Republic', 'Purchased_Track_Count': 76}\n",
      "{'BillingCountry': 'Portugal', 'Purchased_Track_Count': 76}\n",
      "{'BillingCountry': 'India', 'Purchased_Track_Count': 74}\n",
      "{'BillingCountry': 'Argentina', 'Purchased_Track_Count': 38}\n"
     ]
    }
   ],
   "source": [
    "cur.execute('SELECT invoices.BillingCountry, COUNT(invoice_items.TrackId) AS Purchased_Track_Count FROM invoices JOIN invoice_items ON invoice_items.InvoiceId = invoices.InvoiceId GROUP BY invoices.BillingCountry ORDER BY Purchased_Track_Count DESC LIMIT 10')\n",
    "for a in cur:\n",
    "    print(dict(a))"
   ]
  },
  {
   "cell_type": "markdown",
   "metadata": {},
   "source": [
    "**2.8** What is the *most* popular genre by **number of tracks**? Your SQL query should return **only one row**, giving the genre name and the number of songs in the database in that genre."
   ]
  },
  {
   "cell_type": "code",
   "execution_count": 78,
   "metadata": {},
   "outputs": [
    {
     "name": "stdout",
     "output_type": "stream",
     "text": [
      "{'Name': 'Rock', 'Number_of_Tracks': 1297}\n"
     ]
    }
   ],
   "source": [
    "cur.execute('SELECT genres.Name, COUNT(tracks.TrackId) AS Number_of_Tracks FROM genres JOIN tracks ON tracks.GenreId=genres.GenreId GROUP BY genres.Name ORDER BY Number_of_Tracks DESC LIMIT 1')\n",
    "for a in cur:\n",
    "    print(dict(a))"
   ]
  },
  {
   "cell_type": "markdown",
   "metadata": {},
   "source": [
    "**2.9** What is the *least* popular genre by **number of tracks**? Your SQL query should return **only one row**, giving the genre name and the number of songs in the database in that genre."
   ]
  },
  {
   "cell_type": "code",
   "execution_count": 45,
   "metadata": {},
   "outputs": [
    {
     "name": "stdout",
     "output_type": "stream",
     "text": [
      "{'Name': 'Opera', 'Number_of_Tracks': 1}\n"
     ]
    }
   ],
   "source": [
    "cur.execute('SELECT genres.Name, COUNT(tracks.TrackId) AS Number_of_Tracks FROM genres JOIN tracks ON tracks.GenreId=genres.GenreId GROUP BY genres.Name ORDER BY Number_of_Tracks ASC LIMIT 1')\n",
    "for a in cur:\n",
    "    print(dict(a))"
   ]
  },
  {
   "cell_type": "markdown",
   "metadata": {},
   "source": [
    "**2.10** What is the *most* popular genre by **number of purchases**? Your SQL query should return **only one row**, giving the genre name and the number of songs in the database in that genre."
   ]
  },
  {
   "cell_type": "code",
   "execution_count": 47,
   "metadata": {},
   "outputs": [
    {
     "name": "stdout",
     "output_type": "stream",
     "text": [
      "{'Name': 'Rock', 'Number_of_Purchases': 835}\n"
     ]
    }
   ],
   "source": [
    "cur.execute('SELECT genres.Name, COUNT(invoice_items.TrackId) AS Number_of_Purchases FROM genres JOIN tracks ON tracks.GenreId = genres.GenreId JOIN invoice_items ON invoice_items.TrackId = tracks.TrackId GROUP BY genres.Name ORDER BY Number_of_Purchases DESC LIMIT 1')\n",
    "for a in cur:\n",
    "    print(dict(a))\n",
    "\n",
    "\n",
    "\n",
    "\n"
   ]
  },
  {
   "cell_type": "markdown",
   "metadata": {},
   "source": [
    "**2.10** How many \"Alternative & Punk\" songs were purchased in the United States?"
   ]
  },
  {
   "cell_type": "code",
   "execution_count": 64,
   "metadata": {},
   "outputs": [
    {
     "name": "stdout",
     "output_type": "stream",
     "text": [
      "{'Alt_Punk_Song_Purchase_Count': 50}\n"
     ]
    }
   ],
   "source": [
    "cur.execute('SELECT COUNT(*) AS Alt_Punk_Song_Purchase_Count FROM genres JOIN tracks ON tracks.GenreId = genres.GenreId JOIN invoice_items ON invoice_items.TrackId = tracks.TrackId JOIN invoices ON invoices.InvoiceId = invoice_items.InvoiceId WHERE genres.Name = \"Alternative & Punk\" AND invoices.BillingCountry = \"USA\"')\n",
    "for a in cur:\n",
    "    print(dict(a))"
   ]
  },
  {
   "cell_type": "markdown",
   "metadata": {},
   "source": [
    "**2.11** Print out a track listing of the \"TV Shows\" playlist: Artist name, track name, album name, and Composer"
   ]
  },
  {
   "cell_type": "code",
   "execution_count": 68,
   "metadata": {},
   "outputs": [
    {
     "name": "stdout",
     "output_type": "stream",
     "text": [
      "{'Name': 'Battlestar Galactica', 'Track': 'Battlestar Galactica: The Story So Far', 'Album': 'Battlestar Galactica: The Story So Far', 'Composer': None}\n",
      "{'Name': 'Battlestar Galactica', 'Track': 'Occupation / Precipice', 'Album': 'Battlestar Galactica, Season 3', 'Composer': None}\n",
      "{'Name': 'Battlestar Galactica', 'Track': 'Exodus, Pt. 1', 'Album': 'Battlestar Galactica, Season 3', 'Composer': None}\n",
      "{'Name': 'Battlestar Galactica', 'Track': 'Exodus, Pt. 2', 'Album': 'Battlestar Galactica, Season 3', 'Composer': None}\n",
      "{'Name': 'Battlestar Galactica', 'Track': 'Collaborators', 'Album': 'Battlestar Galactica, Season 3', 'Composer': None}\n",
      "{'Name': 'Battlestar Galactica', 'Track': 'Torn', 'Album': 'Battlestar Galactica, Season 3', 'Composer': None}\n",
      "{'Name': 'Battlestar Galactica', 'Track': 'A Measure of Salvation', 'Album': 'Battlestar Galactica, Season 3', 'Composer': None}\n",
      "{'Name': 'Battlestar Galactica', 'Track': 'Hero', 'Album': 'Battlestar Galactica, Season 3', 'Composer': None}\n",
      "{'Name': 'Battlestar Galactica', 'Track': 'Unfinished Business', 'Album': 'Battlestar Galactica, Season 3', 'Composer': None}\n",
      "{'Name': 'Battlestar Galactica', 'Track': 'The Passage', 'Album': 'Battlestar Galactica, Season 3', 'Composer': None}\n",
      "{'Name': 'Battlestar Galactica', 'Track': 'The Eye of Jupiter', 'Album': 'Battlestar Galactica, Season 3', 'Composer': None}\n",
      "{'Name': 'Battlestar Galactica', 'Track': 'Rapture', 'Album': 'Battlestar Galactica, Season 3', 'Composer': None}\n",
      "{'Name': 'Battlestar Galactica', 'Track': 'Taking a Break from All Your Worries', 'Album': 'Battlestar Galactica, Season 3', 'Composer': None}\n",
      "{'Name': 'Battlestar Galactica', 'Track': 'The Woman King', 'Album': 'Battlestar Galactica, Season 3', 'Composer': None}\n",
      "{'Name': 'Battlestar Galactica', 'Track': 'A Day In the Life', 'Album': 'Battlestar Galactica, Season 3', 'Composer': None}\n",
      "{'Name': 'Battlestar Galactica', 'Track': 'Dirty Hands', 'Album': 'Battlestar Galactica, Season 3', 'Composer': None}\n",
      "{'Name': 'Battlestar Galactica', 'Track': 'Maelstrom', 'Album': 'Battlestar Galactica, Season 3', 'Composer': None}\n",
      "{'Name': 'Battlestar Galactica', 'Track': 'The Son Also Rises', 'Album': 'Battlestar Galactica, Season 3', 'Composer': None}\n",
      "{'Name': 'Battlestar Galactica', 'Track': 'Crossroads, Pt. 1', 'Album': 'Battlestar Galactica, Season 3', 'Composer': None}\n",
      "{'Name': 'Battlestar Galactica', 'Track': 'Crossroads, Pt. 2', 'Album': 'Battlestar Galactica, Season 3', 'Composer': None}\n",
      "{'Name': 'Heroes', 'Track': 'Genesis', 'Album': 'Heroes, Season 1', 'Composer': None}\n",
      "{'Name': 'Heroes', 'Track': \"Don't Look Back\", 'Album': 'Heroes, Season 1', 'Composer': None}\n",
      "{'Name': 'Heroes', 'Track': 'One Giant Leap', 'Album': 'Heroes, Season 1', 'Composer': None}\n",
      "{'Name': 'Heroes', 'Track': 'Collision', 'Album': 'Heroes, Season 1', 'Composer': None}\n",
      "{'Name': 'Heroes', 'Track': 'Hiros', 'Album': 'Heroes, Season 1', 'Composer': None}\n",
      "{'Name': 'Heroes', 'Track': 'Better Halves', 'Album': 'Heroes, Season 1', 'Composer': None}\n",
      "{'Name': 'Heroes', 'Track': 'Nothing to Hide', 'Album': 'Heroes, Season 1', 'Composer': None}\n",
      "{'Name': 'Heroes', 'Track': 'Seven Minutes to Midnight', 'Album': 'Heroes, Season 1', 'Composer': None}\n",
      "{'Name': 'Heroes', 'Track': 'Homecoming', 'Album': 'Heroes, Season 1', 'Composer': None}\n",
      "{'Name': 'Heroes', 'Track': 'Six Months Ago', 'Album': 'Heroes, Season 1', 'Composer': None}\n",
      "{'Name': 'Heroes', 'Track': 'Fallout', 'Album': 'Heroes, Season 1', 'Composer': None}\n",
      "{'Name': 'Heroes', 'Track': 'The Fix', 'Album': 'Heroes, Season 1', 'Composer': None}\n",
      "{'Name': 'Heroes', 'Track': 'Distractions', 'Album': 'Heroes, Season 1', 'Composer': None}\n",
      "{'Name': 'Heroes', 'Track': 'Run!', 'Album': 'Heroes, Season 1', 'Composer': None}\n",
      "{'Name': 'Heroes', 'Track': 'Unexpected', 'Album': 'Heroes, Season 1', 'Composer': None}\n",
      "{'Name': 'Heroes', 'Track': 'Company Man', 'Album': 'Heroes, Season 1', 'Composer': None}\n",
      "{'Name': 'Heroes', 'Track': 'Company Man', 'Album': 'Heroes, Season 1', 'Composer': None}\n",
      "{'Name': 'Heroes', 'Track': 'Parasite', 'Album': 'Heroes, Season 1', 'Composer': None}\n",
      "{'Name': 'Lost', 'Track': 'A Tale of Two Cities', 'Album': 'Lost, Season 3', 'Composer': None}\n",
      "{'Name': 'Lost', 'Track': 'Lost (Pilot, Part 1) [Premiere]', 'Album': 'Lost, Season 1', 'Composer': None}\n",
      "{'Name': 'Lost', 'Track': 'Man of Science, Man of Faith (Premiere)', 'Album': 'Lost, Season 2', 'Composer': None}\n",
      "{'Name': 'Lost', 'Track': 'Adrift', 'Album': 'Lost, Season 2', 'Composer': None}\n",
      "{'Name': 'Lost', 'Track': 'Lost (Pilot, Part 2)', 'Album': 'Lost, Season 1', 'Composer': None}\n",
      "{'Name': 'Lost', 'Track': 'The Glass Ballerina', 'Album': 'Lost, Season 3', 'Composer': None}\n",
      "{'Name': 'Lost', 'Track': 'Further Instructions', 'Album': 'Lost, Season 3', 'Composer': None}\n",
      "{'Name': 'Lost', 'Track': 'Orientation', 'Album': 'Lost, Season 2', 'Composer': None}\n",
      "{'Name': 'Lost', 'Track': 'Tabula Rasa', 'Album': 'Lost, Season 1', 'Composer': None}\n",
      "{'Name': 'Lost', 'Track': 'Every Man for Himself', 'Album': 'Lost, Season 3', 'Composer': None}\n",
      "{'Name': 'Lost', 'Track': 'Everybody Hates Hugo', 'Album': 'Lost, Season 2', 'Composer': None}\n",
      "{'Name': 'Lost', 'Track': 'Walkabout', 'Album': 'Lost, Season 1', 'Composer': None}\n",
      "{'Name': 'Lost', 'Track': '...And Found', 'Album': 'Lost, Season 2', 'Composer': None}\n",
      "{'Name': 'Lost', 'Track': 'The Cost of Living', 'Album': 'Lost, Season 3', 'Composer': None}\n",
      "{'Name': 'Lost', 'Track': 'White Rabbit', 'Album': 'Lost, Season 1', 'Composer': None}\n",
      "{'Name': 'Lost', 'Track': 'Abandoned', 'Album': 'Lost, Season 2', 'Composer': None}\n",
      "{'Name': 'Lost', 'Track': 'House of the Rising Sun', 'Album': 'Lost, Season 1', 'Composer': None}\n",
      "{'Name': 'Lost', 'Track': 'I Do', 'Album': 'Lost, Season 3', 'Composer': None}\n",
      "{'Name': 'Lost', 'Track': 'Not In Portland', 'Album': 'Lost, Season 3', 'Composer': None}\n",
      "{'Name': 'Lost', 'Track': 'Not In Portland', 'Album': 'Lost, Season 3', 'Composer': None}\n",
      "{'Name': 'Lost', 'Track': 'The Moth', 'Album': 'Lost, Season 1', 'Composer': None}\n",
      "{'Name': 'Lost', 'Track': 'The Other 48 Days', 'Album': 'Lost, Season 2', 'Composer': None}\n",
      "{'Name': 'Lost', 'Track': 'Collision', 'Album': 'Lost, Season 2', 'Composer': None}\n",
      "{'Name': 'Lost', 'Track': 'Confidence Man', 'Album': 'Lost, Season 1', 'Composer': None}\n",
      "{'Name': 'Lost', 'Track': 'Flashes Before Your Eyes', 'Album': 'Lost, Season 3', 'Composer': None}\n",
      "{'Name': 'Lost', 'Track': 'Lost Survival Guide', 'Album': 'Lost, Season 3', 'Composer': None}\n",
      "{'Name': 'Lost', 'Track': 'Solitary', 'Album': 'Lost, Season 1', 'Composer': None}\n",
      "{'Name': 'Lost', 'Track': 'What Kate Did', 'Album': 'Lost, Season 2', 'Composer': None}\n",
      "{'Name': 'Lost', 'Track': 'Raised By Another', 'Album': 'Lost, Season 1', 'Composer': None}\n",
      "{'Name': 'Lost', 'Track': 'Stranger In a Strange Land', 'Album': 'Lost, Season 3', 'Composer': None}\n",
      "{'Name': 'Lost', 'Track': 'The 23rd Psalm', 'Album': 'Lost, Season 2', 'Composer': None}\n",
      "{'Name': 'Lost', 'Track': 'All the Best Cowboys Have Daddy Issues', 'Album': 'Lost, Season 1', 'Composer': None}\n",
      "{'Name': 'Lost', 'Track': 'The Hunting Party', 'Album': 'Lost, Season 2', 'Composer': None}\n",
      "{'Name': 'Lost', 'Track': 'Tricia Tanaka Is Dead', 'Album': 'Lost, Season 3', 'Composer': None}\n",
      "{'Name': 'Lost', 'Track': 'Enter 77', 'Album': 'Lost, Season 3', 'Composer': None}\n",
      "{'Name': 'Lost', 'Track': 'Fire + Water', 'Album': 'Lost, Season 2', 'Composer': None}\n",
      "{'Name': 'Lost', 'Track': 'Whatever the Case May Be', 'Album': 'Lost, Season 1', 'Composer': None}\n",
      "{'Name': 'Lost', 'Track': 'Hearts and Minds', 'Album': 'Lost, Season 1', 'Composer': None}\n",
      "{'Name': 'Lost', 'Track': 'Par Avion', 'Album': 'Lost, Season 3', 'Composer': None}\n",
      "{'Name': 'Lost', 'Track': 'The Long Con', 'Album': 'Lost, Season 2', 'Composer': None}\n",
      "{'Name': 'Lost', 'Track': 'One of Them', 'Album': 'Lost, Season 2', 'Composer': None}\n",
      "{'Name': 'Lost', 'Track': 'Special', 'Album': 'Lost, Season 1', 'Composer': None}\n",
      "{'Name': 'Lost', 'Track': 'The Man from Tallahassee', 'Album': 'Lost, Season 3', 'Composer': None}\n",
      "{'Name': 'Lost', 'Track': 'Exposé', 'Album': 'Lost, Season 3', 'Composer': None}\n",
      "{'Name': 'Lost', 'Track': 'Homecoming', 'Album': 'Lost, Season 1', 'Composer': None}\n",
      "{'Name': 'Lost', 'Track': 'Maternity Leave', 'Album': 'Lost, Season 2', 'Composer': None}\n",
      "{'Name': 'Lost', 'Track': 'Left Behind', 'Album': 'Lost, Season 3', 'Composer': None}\n",
      "{'Name': 'Lost', 'Track': 'Outlaws', 'Album': 'Lost, Season 1', 'Composer': None}\n",
      "{'Name': 'Lost', 'Track': 'The Whole Truth', 'Album': 'Lost, Season 2', 'Composer': None}\n",
      "{'Name': 'Lost', 'Track': '...In Translation', 'Album': 'Lost, Season 1', 'Composer': None}\n",
      "{'Name': 'Lost', 'Track': 'Lockdown', 'Album': 'Lost, Season 2', 'Composer': None}\n",
      "{'Name': 'Lost', 'Track': 'One of Us', 'Album': 'Lost, Season 3', 'Composer': None}\n",
      "{'Name': 'Lost', 'Track': 'Catch-22', 'Album': 'Lost, Season 3', 'Composer': None}\n",
      "{'Name': 'Lost', 'Track': 'Dave', 'Album': 'Lost, Season 2', 'Composer': None}\n",
      "{'Name': 'Lost', 'Track': 'Numbers', 'Album': 'Lost, Season 1', 'Composer': None}\n",
      "{'Name': 'Lost', 'Track': 'D.O.C.', 'Album': 'Lost, Season 3', 'Composer': None}\n",
      "{'Name': 'Lost', 'Track': 'Deus Ex Machina', 'Album': 'Lost, Season 1', 'Composer': None}\n",
      "{'Name': 'Lost', 'Track': 'S.O.S.', 'Album': 'Lost, Season 2', 'Composer': None}\n",
      "{'Name': 'Lost', 'Track': 'Do No Harm', 'Album': 'Lost, Season 1', 'Composer': None}\n",
      "{'Name': 'Lost', 'Track': 'Two for the Road', 'Album': 'Lost, Season 2', 'Composer': None}\n",
      "{'Name': 'Lost', 'Track': 'The Greater Good', 'Album': 'Lost, Season 1', 'Composer': None}\n",
      "{'Name': 'Lost', 'Track': '\"?\"', 'Album': 'Lost, Season 2', 'Composer': None}\n",
      "{'Name': 'Lost', 'Track': 'Born to Run', 'Album': 'Lost, Season 1', 'Composer': None}\n",
      "{'Name': 'Lost', 'Track': 'Three Minutes', 'Album': 'Lost, Season 2', 'Composer': None}\n",
      "{'Name': 'Lost', 'Track': 'Exodus (Part 1)', 'Album': 'Lost, Season 1', 'Composer': None}\n",
      "{'Name': 'Lost', 'Track': 'Live Together, Die Alone, Pt. 1', 'Album': 'Lost, Season 2', 'Composer': None}\n",
      "{'Name': 'Lost', 'Track': 'Exodus (Part 2) [Season Finale]', 'Album': 'Lost, Season 1', 'Composer': None}\n",
      "{'Name': 'Lost', 'Track': 'Live Together, Die Alone, Pt. 2', 'Album': 'Lost, Season 2', 'Composer': None}\n",
      "{'Name': 'Lost', 'Track': 'Exodus (Part 3) [Season Finale]', 'Album': 'Lost, Season 1', 'Composer': None}\n",
      "{'Name': 'Lost', 'Track': 'The Brig', 'Album': 'Lost, Season 3', 'Composer': None}\n",
      "{'Name': 'Heroes', 'Track': '.07%', 'Album': 'Heroes, Season 1', 'Composer': None}\n",
      "{'Name': 'Heroes', 'Track': 'Five Years Gone', 'Album': 'Heroes, Season 1', 'Composer': None}\n",
      "{'Name': 'Heroes', 'Track': 'The Hard Part', 'Album': 'Heroes, Season 1', 'Composer': None}\n",
      "{'Name': 'Lost', 'Track': 'The Man Behind the Curtain', 'Album': 'Lost, Season 3', 'Composer': None}\n",
      "{'Name': 'Lost', 'Track': 'Greatest Hits', 'Album': 'Lost, Season 3', 'Composer': None}\n",
      "{'Name': 'Heroes', 'Track': 'Landslide', 'Album': 'Heroes, Season 1', 'Composer': None}\n",
      "{'Name': 'The Office', 'Track': 'The Office: An American Workplace (Pilot)', 'Album': 'The Office, Season 1', 'Composer': None}\n",
      "{'Name': 'The Office', 'Track': 'Diversity Day', 'Album': 'The Office, Season 1', 'Composer': None}\n",
      "{'Name': 'The Office', 'Track': 'Health Care', 'Album': 'The Office, Season 1', 'Composer': None}\n",
      "{'Name': 'The Office', 'Track': 'The Alliance', 'Album': 'The Office, Season 1', 'Composer': None}\n",
      "{'Name': 'The Office', 'Track': 'Basketball', 'Album': 'The Office, Season 1', 'Composer': None}\n",
      "{'Name': 'The Office', 'Track': 'Hot Girl', 'Album': 'The Office, Season 1', 'Composer': None}\n",
      "{'Name': 'The Office', 'Track': 'The Dundies', 'Album': 'The Office, Season 2', 'Composer': None}\n",
      "{'Name': 'The Office', 'Track': 'Sexual Harassment', 'Album': 'The Office, Season 2', 'Composer': None}\n",
      "{'Name': 'The Office', 'Track': 'Office Olympics', 'Album': 'The Office, Season 2', 'Composer': None}\n",
      "{'Name': 'The Office', 'Track': 'The Fire', 'Album': 'The Office, Season 2', 'Composer': None}\n",
      "{'Name': 'The Office', 'Track': 'Halloween', 'Album': 'The Office, Season 2', 'Composer': None}\n",
      "{'Name': 'The Office', 'Track': 'The Fight', 'Album': 'The Office, Season 2', 'Composer': None}\n",
      "{'Name': 'The Office', 'Track': 'The Client', 'Album': 'The Office, Season 2', 'Composer': None}\n",
      "{'Name': 'The Office', 'Track': 'Performance Review', 'Album': 'The Office, Season 2', 'Composer': None}\n",
      "{'Name': 'The Office', 'Track': 'Email Surveillance', 'Album': 'The Office, Season 2', 'Composer': None}\n",
      "{'Name': 'The Office', 'Track': 'Christmas Party', 'Album': 'The Office, Season 2', 'Composer': None}\n",
      "{'Name': 'The Office', 'Track': 'Booze Cruise', 'Album': 'The Office, Season 2', 'Composer': None}\n",
      "{'Name': 'The Office', 'Track': 'The Injury', 'Album': 'The Office, Season 2', 'Composer': None}\n",
      "{'Name': 'The Office', 'Track': 'The Secret', 'Album': 'The Office, Season 2', 'Composer': None}\n",
      "{'Name': 'The Office', 'Track': 'The Carpet', 'Album': 'The Office, Season 2', 'Composer': None}\n",
      "{'Name': 'The Office', 'Track': 'Boys and Girls', 'Album': 'The Office, Season 2', 'Composer': None}\n",
      "{'Name': 'The Office', 'Track': \"Valentine's Day\", 'Album': 'The Office, Season 2', 'Composer': None}\n",
      "{'Name': 'The Office', 'Track': \"Dwight's Speech\", 'Album': 'The Office, Season 2', 'Composer': None}\n",
      "{'Name': 'The Office', 'Track': 'Take Your Daughter to Work Day', 'Album': 'The Office, Season 2', 'Composer': None}\n",
      "{'Name': 'The Office', 'Track': \"Michael's Birthday\", 'Album': 'The Office, Season 2', 'Composer': None}\n",
      "{'Name': 'The Office', 'Track': 'Drug Testing', 'Album': 'The Office, Season 2', 'Composer': None}\n",
      "{'Name': 'The Office', 'Track': 'Conflict Resolution', 'Album': 'The Office, Season 2', 'Composer': None}\n",
      "{'Name': 'The Office', 'Track': 'Casino Night - Season Finale', 'Album': 'The Office, Season 2', 'Composer': None}\n",
      "{'Name': 'The Office', 'Track': 'Gay Witch Hunt', 'Album': 'The Office, Season 3', 'Composer': None}\n",
      "{'Name': 'The Office', 'Track': 'The Convention', 'Album': 'The Office, Season 3', 'Composer': None}\n",
      "{'Name': 'The Office', 'Track': 'The Coup', 'Album': 'The Office, Season 3', 'Composer': None}\n",
      "{'Name': 'The Office', 'Track': 'Grief Counseling', 'Album': 'The Office, Season 3', 'Composer': None}\n",
      "{'Name': 'The Office', 'Track': 'The Initiation', 'Album': 'The Office, Season 3', 'Composer': None}\n",
      "{'Name': 'The Office', 'Track': 'Diwali', 'Album': 'The Office, Season 3', 'Composer': None}\n",
      "{'Name': 'The Office', 'Track': 'Branch Closing', 'Album': 'The Office, Season 3', 'Composer': None}\n",
      "{'Name': 'The Office', 'Track': 'The Merger', 'Album': 'The Office, Season 3', 'Composer': None}\n",
      "{'Name': 'The Office', 'Track': 'The Convict', 'Album': 'The Office, Season 3', 'Composer': None}\n",
      "{'Name': 'The Office', 'Track': 'A Benihana Christmas, Pts. 1 & 2', 'Album': 'The Office, Season 3', 'Composer': None}\n",
      "{'Name': 'The Office', 'Track': 'Back from Vacation', 'Album': 'The Office, Season 3', 'Composer': None}\n",
      "{'Name': 'The Office', 'Track': 'Traveling Salesmen', 'Album': 'The Office, Season 3', 'Composer': None}\n",
      "{'Name': 'The Office', 'Track': \"Producer's Cut: The Return\", 'Album': 'The Office, Season 3', 'Composer': None}\n",
      "{'Name': 'The Office', 'Track': 'Ben Franklin', 'Album': 'The Office, Season 3', 'Composer': None}\n",
      "{'Name': 'The Office', 'Track': \"Phyllis's Wedding\", 'Album': 'The Office, Season 3', 'Composer': None}\n",
      "{'Name': 'The Office', 'Track': 'Business School', 'Album': 'The Office, Season 3', 'Composer': None}\n",
      "{'Name': 'The Office', 'Track': 'Cocktails', 'Album': 'The Office, Season 3', 'Composer': None}\n",
      "{'Name': 'The Office', 'Track': 'The Negotiation', 'Album': 'The Office, Season 3', 'Composer': None}\n",
      "{'Name': 'The Office', 'Track': 'Safety Training', 'Album': 'The Office, Season 3', 'Composer': None}\n",
      "{'Name': 'The Office', 'Track': 'Product Recall', 'Album': 'The Office, Season 3', 'Composer': None}\n",
      "{'Name': 'The Office', 'Track': \"Women's Appreciation\", 'Album': 'The Office, Season 3', 'Composer': None}\n",
      "{'Name': 'The Office', 'Track': 'Beach Games', 'Album': 'The Office, Season 3', 'Composer': None}\n",
      "{'Name': 'The Office', 'Track': 'The Job', 'Album': 'The Office, Season 3', 'Composer': None}\n",
      "{'Name': 'Heroes', 'Track': 'How to Stop an Exploding Man', 'Album': 'Heroes, Season 1', 'Composer': None}\n",
      "{'Name': 'Lost', 'Track': 'Through a Looking Glass', 'Album': 'Lost, Season 3', 'Composer': None}\n",
      "{'Name': 'Battlestar Galactica (Classic)', 'Track': 'Battlestar Galactica, Pt. 1', 'Album': 'Battlestar Galactica (Classic), Season 1', 'Composer': None}\n",
      "{'Name': 'Battlestar Galactica (Classic)', 'Track': 'Battlestar Galactica, Pt. 2', 'Album': 'Battlestar Galactica (Classic), Season 1', 'Composer': None}\n",
      "{'Name': 'Battlestar Galactica (Classic)', 'Track': 'Battlestar Galactica, Pt. 3', 'Album': 'Battlestar Galactica (Classic), Season 1', 'Composer': None}\n",
      "{'Name': 'Battlestar Galactica (Classic)', 'Track': 'Lost Planet of the Gods, Pt. 1', 'Album': 'Battlestar Galactica (Classic), Season 1', 'Composer': None}\n",
      "{'Name': 'Battlestar Galactica (Classic)', 'Track': 'Lost Planet of the Gods, Pt. 2', 'Album': 'Battlestar Galactica (Classic), Season 1', 'Composer': None}\n",
      "{'Name': 'Battlestar Galactica (Classic)', 'Track': 'The Lost Warrior', 'Album': 'Battlestar Galactica (Classic), Season 1', 'Composer': None}\n",
      "{'Name': 'Battlestar Galactica (Classic)', 'Track': 'The Long Patrol', 'Album': 'Battlestar Galactica (Classic), Season 1', 'Composer': None}\n",
      "{'Name': 'Battlestar Galactica (Classic)', 'Track': 'The Gun On Ice Planet Zero, Pt. 1', 'Album': 'Battlestar Galactica (Classic), Season 1', 'Composer': None}\n",
      "{'Name': 'Battlestar Galactica (Classic)', 'Track': 'The Gun On Ice Planet Zero, Pt. 2', 'Album': 'Battlestar Galactica (Classic), Season 1', 'Composer': None}\n",
      "{'Name': 'Battlestar Galactica (Classic)', 'Track': 'The Magnificent Warriors', 'Album': 'Battlestar Galactica (Classic), Season 1', 'Composer': None}\n",
      "{'Name': 'Battlestar Galactica (Classic)', 'Track': 'The Young Lords', 'Album': 'Battlestar Galactica (Classic), Season 1', 'Composer': None}\n",
      "{'Name': 'Battlestar Galactica (Classic)', 'Track': 'The Living Legend, Pt. 1', 'Album': 'Battlestar Galactica (Classic), Season 1', 'Composer': None}\n",
      "{'Name': 'Battlestar Galactica (Classic)', 'Track': 'The Living Legend, Pt. 2', 'Album': 'Battlestar Galactica (Classic), Season 1', 'Composer': None}\n",
      "{'Name': 'Battlestar Galactica (Classic)', 'Track': 'Fire In Space', 'Album': 'Battlestar Galactica (Classic), Season 1', 'Composer': None}\n",
      "{'Name': 'Battlestar Galactica (Classic)', 'Track': 'War of the Gods, Pt. 1', 'Album': 'Battlestar Galactica (Classic), Season 1', 'Composer': None}\n",
      "{'Name': 'Battlestar Galactica (Classic)', 'Track': 'War of the Gods, Pt. 2', 'Album': 'Battlestar Galactica (Classic), Season 1', 'Composer': None}\n",
      "{'Name': 'Battlestar Galactica (Classic)', 'Track': 'The Man With Nine Lives', 'Album': 'Battlestar Galactica (Classic), Season 1', 'Composer': None}\n",
      "{'Name': 'Battlestar Galactica (Classic)', 'Track': 'Murder On the Rising Star', 'Album': 'Battlestar Galactica (Classic), Season 1', 'Composer': None}\n",
      "{'Name': 'Battlestar Galactica (Classic)', 'Track': 'Greetings from Earth, Pt. 1', 'Album': 'Battlestar Galactica (Classic), Season 1', 'Composer': None}\n",
      "{'Name': 'Battlestar Galactica (Classic)', 'Track': 'Greetings from Earth, Pt. 2', 'Album': 'Battlestar Galactica (Classic), Season 1', 'Composer': None}\n",
      "{'Name': 'Battlestar Galactica (Classic)', 'Track': \"Baltar's Escape\", 'Album': 'Battlestar Galactica (Classic), Season 1', 'Composer': None}\n",
      "{'Name': 'Battlestar Galactica (Classic)', 'Track': 'Experiment In Terra', 'Album': 'Battlestar Galactica (Classic), Season 1', 'Composer': None}\n",
      "{'Name': 'Battlestar Galactica (Classic)', 'Track': 'Take the Celestra', 'Album': 'Battlestar Galactica (Classic), Season 1', 'Composer': None}\n",
      "{'Name': 'Battlestar Galactica (Classic)', 'Track': 'The Hand of God', 'Album': 'Battlestar Galactica (Classic), Season 1', 'Composer': None}\n",
      "{'Name': 'Aquaman', 'Track': 'Pilot', 'Album': 'Aquaman', 'Composer': None}\n",
      "{'Name': 'Lost', 'Track': 'Through the Looking Glass, Pt. 2', 'Album': 'Lost, Season 3', 'Composer': None}\n",
      "{'Name': 'Lost', 'Track': 'Through the Looking Glass, Pt. 1', 'Album': 'Lost, Season 3', 'Composer': None}\n",
      "{'Name': 'Lost', 'Track': 'Past, Present, and Future', 'Album': 'LOST, Season 4', 'Composer': None}\n",
      "{'Name': 'Lost', 'Track': 'The Beginning of the End', 'Album': 'LOST, Season 4', 'Composer': None}\n",
      "{'Name': 'Lost', 'Track': 'LOST Season 4 Trailer', 'Album': 'LOST, Season 4', 'Composer': None}\n",
      "{'Name': 'Lost', 'Track': 'LOST In 8:15', 'Album': 'LOST, Season 4', 'Composer': None}\n",
      "{'Name': 'Lost', 'Track': 'Confirmed Dead', 'Album': 'LOST, Season 4', 'Composer': None}\n",
      "{'Name': 'Lost', 'Track': 'The Economist', 'Album': 'LOST, Season 4', 'Composer': None}\n",
      "{'Name': 'Lost', 'Track': 'Eggtown', 'Album': 'LOST, Season 4', 'Composer': None}\n",
      "{'Name': 'Lost', 'Track': 'The Constant', 'Album': 'LOST, Season 4', 'Composer': None}\n",
      "{'Name': 'Lost', 'Track': 'The Other Woman', 'Album': 'LOST, Season 4', 'Composer': None}\n",
      "{'Name': 'Lost', 'Track': 'Ji Yeon', 'Album': 'LOST, Season 4', 'Composer': None}\n",
      "{'Name': 'Lost', 'Track': 'Meet Kevin Johnson', 'Album': 'LOST, Season 4', 'Composer': None}\n",
      "{'Name': 'Lost', 'Track': 'The Shape of Things to Come', 'Album': 'LOST, Season 4', 'Composer': None}\n",
      "{'Name': 'Lost', 'Track': 'Something Nice Back Home', 'Album': 'LOST, Season 4', 'Composer': None}\n",
      "{'Name': 'Lost', 'Track': 'Cabin Fever', 'Album': 'LOST, Season 4', 'Composer': None}\n",
      "{'Name': 'Lost', 'Track': \"There's No Place Like Home, Pt. 1\", 'Album': 'LOST, Season 4', 'Composer': None}\n",
      "{'Name': 'Lost', 'Track': \"There's No Place Like Home, Pt. 2\", 'Album': 'LOST, Season 4', 'Composer': None}\n",
      "{'Name': 'Lost', 'Track': \"There's No Place Like Home, Pt. 3\", 'Album': 'LOST, Season 4', 'Composer': None}\n",
      "{'Name': 'The Office', 'Track': 'Branch Closing', 'Album': 'The Office, Season 3', 'Composer': None}\n",
      "{'Name': 'The Office', 'Track': 'The Return', 'Album': 'The Office, Season 3', 'Composer': None}\n",
      "{'Name': 'Battlestar Galactica', 'Track': 'Battlestar Galactica: The Story So Far', 'Album': 'Battlestar Galactica: The Story So Far', 'Composer': None}\n",
      "{'Name': 'Battlestar Galactica', 'Track': 'Occupation / Precipice', 'Album': 'Battlestar Galactica, Season 3', 'Composer': None}\n",
      "{'Name': 'Battlestar Galactica', 'Track': 'Exodus, Pt. 1', 'Album': 'Battlestar Galactica, Season 3', 'Composer': None}\n",
      "{'Name': 'Battlestar Galactica', 'Track': 'Exodus, Pt. 2', 'Album': 'Battlestar Galactica, Season 3', 'Composer': None}\n",
      "{'Name': 'Battlestar Galactica', 'Track': 'Collaborators', 'Album': 'Battlestar Galactica, Season 3', 'Composer': None}\n",
      "{'Name': 'Battlestar Galactica', 'Track': 'Torn', 'Album': 'Battlestar Galactica, Season 3', 'Composer': None}\n",
      "{'Name': 'Battlestar Galactica', 'Track': 'A Measure of Salvation', 'Album': 'Battlestar Galactica, Season 3', 'Composer': None}\n",
      "{'Name': 'Battlestar Galactica', 'Track': 'Hero', 'Album': 'Battlestar Galactica, Season 3', 'Composer': None}\n",
      "{'Name': 'Battlestar Galactica', 'Track': 'Unfinished Business', 'Album': 'Battlestar Galactica, Season 3', 'Composer': None}\n",
      "{'Name': 'Battlestar Galactica', 'Track': 'The Passage', 'Album': 'Battlestar Galactica, Season 3', 'Composer': None}\n",
      "{'Name': 'Battlestar Galactica', 'Track': 'The Eye of Jupiter', 'Album': 'Battlestar Galactica, Season 3', 'Composer': None}\n",
      "{'Name': 'Battlestar Galactica', 'Track': 'Rapture', 'Album': 'Battlestar Galactica, Season 3', 'Composer': None}\n",
      "{'Name': 'Battlestar Galactica', 'Track': 'Taking a Break from All Your Worries', 'Album': 'Battlestar Galactica, Season 3', 'Composer': None}\n",
      "{'Name': 'Battlestar Galactica', 'Track': 'The Woman King', 'Album': 'Battlestar Galactica, Season 3', 'Composer': None}\n",
      "{'Name': 'Battlestar Galactica', 'Track': 'A Day In the Life', 'Album': 'Battlestar Galactica, Season 3', 'Composer': None}\n",
      "{'Name': 'Battlestar Galactica', 'Track': 'Dirty Hands', 'Album': 'Battlestar Galactica, Season 3', 'Composer': None}\n",
      "{'Name': 'Battlestar Galactica', 'Track': 'Maelstrom', 'Album': 'Battlestar Galactica, Season 3', 'Composer': None}\n",
      "{'Name': 'Battlestar Galactica', 'Track': 'The Son Also Rises', 'Album': 'Battlestar Galactica, Season 3', 'Composer': None}\n",
      "{'Name': 'Battlestar Galactica', 'Track': 'Crossroads, Pt. 1', 'Album': 'Battlestar Galactica, Season 3', 'Composer': None}\n",
      "{'Name': 'Battlestar Galactica', 'Track': 'Crossroads, Pt. 2', 'Album': 'Battlestar Galactica, Season 3', 'Composer': None}\n",
      "{'Name': 'Heroes', 'Track': 'Genesis', 'Album': 'Heroes, Season 1', 'Composer': None}\n",
      "{'Name': 'Heroes', 'Track': \"Don't Look Back\", 'Album': 'Heroes, Season 1', 'Composer': None}\n",
      "{'Name': 'Heroes', 'Track': 'One Giant Leap', 'Album': 'Heroes, Season 1', 'Composer': None}\n",
      "{'Name': 'Heroes', 'Track': 'Collision', 'Album': 'Heroes, Season 1', 'Composer': None}\n",
      "{'Name': 'Heroes', 'Track': 'Hiros', 'Album': 'Heroes, Season 1', 'Composer': None}\n",
      "{'Name': 'Heroes', 'Track': 'Better Halves', 'Album': 'Heroes, Season 1', 'Composer': None}\n",
      "{'Name': 'Heroes', 'Track': 'Nothing to Hide', 'Album': 'Heroes, Season 1', 'Composer': None}\n",
      "{'Name': 'Heroes', 'Track': 'Seven Minutes to Midnight', 'Album': 'Heroes, Season 1', 'Composer': None}\n",
      "{'Name': 'Heroes', 'Track': 'Homecoming', 'Album': 'Heroes, Season 1', 'Composer': None}\n",
      "{'Name': 'Heroes', 'Track': 'Six Months Ago', 'Album': 'Heroes, Season 1', 'Composer': None}\n",
      "{'Name': 'Heroes', 'Track': 'Fallout', 'Album': 'Heroes, Season 1', 'Composer': None}\n",
      "{'Name': 'Heroes', 'Track': 'The Fix', 'Album': 'Heroes, Season 1', 'Composer': None}\n",
      "{'Name': 'Heroes', 'Track': 'Distractions', 'Album': 'Heroes, Season 1', 'Composer': None}\n",
      "{'Name': 'Heroes', 'Track': 'Run!', 'Album': 'Heroes, Season 1', 'Composer': None}\n",
      "{'Name': 'Heroes', 'Track': 'Unexpected', 'Album': 'Heroes, Season 1', 'Composer': None}\n",
      "{'Name': 'Heroes', 'Track': 'Company Man', 'Album': 'Heroes, Season 1', 'Composer': None}\n",
      "{'Name': 'Heroes', 'Track': 'Company Man', 'Album': 'Heroes, Season 1', 'Composer': None}\n",
      "{'Name': 'Heroes', 'Track': 'Parasite', 'Album': 'Heroes, Season 1', 'Composer': None}\n",
      "{'Name': 'Lost', 'Track': 'A Tale of Two Cities', 'Album': 'Lost, Season 3', 'Composer': None}\n",
      "{'Name': 'Lost', 'Track': 'Lost (Pilot, Part 1) [Premiere]', 'Album': 'Lost, Season 1', 'Composer': None}\n",
      "{'Name': 'Lost', 'Track': 'Man of Science, Man of Faith (Premiere)', 'Album': 'Lost, Season 2', 'Composer': None}\n",
      "{'Name': 'Lost', 'Track': 'Adrift', 'Album': 'Lost, Season 2', 'Composer': None}\n",
      "{'Name': 'Lost', 'Track': 'Lost (Pilot, Part 2)', 'Album': 'Lost, Season 1', 'Composer': None}\n",
      "{'Name': 'Lost', 'Track': 'The Glass Ballerina', 'Album': 'Lost, Season 3', 'Composer': None}\n",
      "{'Name': 'Lost', 'Track': 'Further Instructions', 'Album': 'Lost, Season 3', 'Composer': None}\n",
      "{'Name': 'Lost', 'Track': 'Orientation', 'Album': 'Lost, Season 2', 'Composer': None}\n",
      "{'Name': 'Lost', 'Track': 'Tabula Rasa', 'Album': 'Lost, Season 1', 'Composer': None}\n",
      "{'Name': 'Lost', 'Track': 'Every Man for Himself', 'Album': 'Lost, Season 3', 'Composer': None}\n",
      "{'Name': 'Lost', 'Track': 'Everybody Hates Hugo', 'Album': 'Lost, Season 2', 'Composer': None}\n",
      "{'Name': 'Lost', 'Track': 'Walkabout', 'Album': 'Lost, Season 1', 'Composer': None}\n",
      "{'Name': 'Lost', 'Track': '...And Found', 'Album': 'Lost, Season 2', 'Composer': None}\n",
      "{'Name': 'Lost', 'Track': 'The Cost of Living', 'Album': 'Lost, Season 3', 'Composer': None}\n",
      "{'Name': 'Lost', 'Track': 'White Rabbit', 'Album': 'Lost, Season 1', 'Composer': None}\n",
      "{'Name': 'Lost', 'Track': 'Abandoned', 'Album': 'Lost, Season 2', 'Composer': None}\n",
      "{'Name': 'Lost', 'Track': 'House of the Rising Sun', 'Album': 'Lost, Season 1', 'Composer': None}\n",
      "{'Name': 'Lost', 'Track': 'I Do', 'Album': 'Lost, Season 3', 'Composer': None}\n",
      "{'Name': 'Lost', 'Track': 'Not In Portland', 'Album': 'Lost, Season 3', 'Composer': None}\n",
      "{'Name': 'Lost', 'Track': 'Not In Portland', 'Album': 'Lost, Season 3', 'Composer': None}\n",
      "{'Name': 'Lost', 'Track': 'The Moth', 'Album': 'Lost, Season 1', 'Composer': None}\n",
      "{'Name': 'Lost', 'Track': 'The Other 48 Days', 'Album': 'Lost, Season 2', 'Composer': None}\n",
      "{'Name': 'Lost', 'Track': 'Collision', 'Album': 'Lost, Season 2', 'Composer': None}\n",
      "{'Name': 'Lost', 'Track': 'Confidence Man', 'Album': 'Lost, Season 1', 'Composer': None}\n",
      "{'Name': 'Lost', 'Track': 'Flashes Before Your Eyes', 'Album': 'Lost, Season 3', 'Composer': None}\n",
      "{'Name': 'Lost', 'Track': 'Lost Survival Guide', 'Album': 'Lost, Season 3', 'Composer': None}\n",
      "{'Name': 'Lost', 'Track': 'Solitary', 'Album': 'Lost, Season 1', 'Composer': None}\n",
      "{'Name': 'Lost', 'Track': 'What Kate Did', 'Album': 'Lost, Season 2', 'Composer': None}\n",
      "{'Name': 'Lost', 'Track': 'Raised By Another', 'Album': 'Lost, Season 1', 'Composer': None}\n",
      "{'Name': 'Lost', 'Track': 'Stranger In a Strange Land', 'Album': 'Lost, Season 3', 'Composer': None}\n",
      "{'Name': 'Lost', 'Track': 'The 23rd Psalm', 'Album': 'Lost, Season 2', 'Composer': None}\n",
      "{'Name': 'Lost', 'Track': 'All the Best Cowboys Have Daddy Issues', 'Album': 'Lost, Season 1', 'Composer': None}\n",
      "{'Name': 'Lost', 'Track': 'The Hunting Party', 'Album': 'Lost, Season 2', 'Composer': None}\n",
      "{'Name': 'Lost', 'Track': 'Tricia Tanaka Is Dead', 'Album': 'Lost, Season 3', 'Composer': None}\n",
      "{'Name': 'Lost', 'Track': 'Enter 77', 'Album': 'Lost, Season 3', 'Composer': None}\n",
      "{'Name': 'Lost', 'Track': 'Fire + Water', 'Album': 'Lost, Season 2', 'Composer': None}\n",
      "{'Name': 'Lost', 'Track': 'Whatever the Case May Be', 'Album': 'Lost, Season 1', 'Composer': None}\n",
      "{'Name': 'Lost', 'Track': 'Hearts and Minds', 'Album': 'Lost, Season 1', 'Composer': None}\n",
      "{'Name': 'Lost', 'Track': 'Par Avion', 'Album': 'Lost, Season 3', 'Composer': None}\n",
      "{'Name': 'Lost', 'Track': 'The Long Con', 'Album': 'Lost, Season 2', 'Composer': None}\n",
      "{'Name': 'Lost', 'Track': 'One of Them', 'Album': 'Lost, Season 2', 'Composer': None}\n",
      "{'Name': 'Lost', 'Track': 'Special', 'Album': 'Lost, Season 1', 'Composer': None}\n",
      "{'Name': 'Lost', 'Track': 'The Man from Tallahassee', 'Album': 'Lost, Season 3', 'Composer': None}\n",
      "{'Name': 'Lost', 'Track': 'Exposé', 'Album': 'Lost, Season 3', 'Composer': None}\n",
      "{'Name': 'Lost', 'Track': 'Homecoming', 'Album': 'Lost, Season 1', 'Composer': None}\n",
      "{'Name': 'Lost', 'Track': 'Maternity Leave', 'Album': 'Lost, Season 2', 'Composer': None}\n",
      "{'Name': 'Lost', 'Track': 'Left Behind', 'Album': 'Lost, Season 3', 'Composer': None}\n",
      "{'Name': 'Lost', 'Track': 'Outlaws', 'Album': 'Lost, Season 1', 'Composer': None}\n",
      "{'Name': 'Lost', 'Track': 'The Whole Truth', 'Album': 'Lost, Season 2', 'Composer': None}\n",
      "{'Name': 'Lost', 'Track': '...In Translation', 'Album': 'Lost, Season 1', 'Composer': None}\n",
      "{'Name': 'Lost', 'Track': 'Lockdown', 'Album': 'Lost, Season 2', 'Composer': None}\n",
      "{'Name': 'Lost', 'Track': 'One of Us', 'Album': 'Lost, Season 3', 'Composer': None}\n",
      "{'Name': 'Lost', 'Track': 'Catch-22', 'Album': 'Lost, Season 3', 'Composer': None}\n",
      "{'Name': 'Lost', 'Track': 'Dave', 'Album': 'Lost, Season 2', 'Composer': None}\n",
      "{'Name': 'Lost', 'Track': 'Numbers', 'Album': 'Lost, Season 1', 'Composer': None}\n",
      "{'Name': 'Lost', 'Track': 'D.O.C.', 'Album': 'Lost, Season 3', 'Composer': None}\n",
      "{'Name': 'Lost', 'Track': 'Deus Ex Machina', 'Album': 'Lost, Season 1', 'Composer': None}\n",
      "{'Name': 'Lost', 'Track': 'S.O.S.', 'Album': 'Lost, Season 2', 'Composer': None}\n",
      "{'Name': 'Lost', 'Track': 'Do No Harm', 'Album': 'Lost, Season 1', 'Composer': None}\n",
      "{'Name': 'Lost', 'Track': 'Two for the Road', 'Album': 'Lost, Season 2', 'Composer': None}\n",
      "{'Name': 'Lost', 'Track': 'The Greater Good', 'Album': 'Lost, Season 1', 'Composer': None}\n",
      "{'Name': 'Lost', 'Track': '\"?\"', 'Album': 'Lost, Season 2', 'Composer': None}\n",
      "{'Name': 'Lost', 'Track': 'Born to Run', 'Album': 'Lost, Season 1', 'Composer': None}\n",
      "{'Name': 'Lost', 'Track': 'Three Minutes', 'Album': 'Lost, Season 2', 'Composer': None}\n",
      "{'Name': 'Lost', 'Track': 'Exodus (Part 1)', 'Album': 'Lost, Season 1', 'Composer': None}\n",
      "{'Name': 'Lost', 'Track': 'Live Together, Die Alone, Pt. 1', 'Album': 'Lost, Season 2', 'Composer': None}\n",
      "{'Name': 'Lost', 'Track': 'Exodus (Part 2) [Season Finale]', 'Album': 'Lost, Season 1', 'Composer': None}\n",
      "{'Name': 'Lost', 'Track': 'Live Together, Die Alone, Pt. 2', 'Album': 'Lost, Season 2', 'Composer': None}\n",
      "{'Name': 'Lost', 'Track': 'Exodus (Part 3) [Season Finale]', 'Album': 'Lost, Season 1', 'Composer': None}\n",
      "{'Name': 'Lost', 'Track': 'The Brig', 'Album': 'Lost, Season 3', 'Composer': None}\n",
      "{'Name': 'Heroes', 'Track': '.07%', 'Album': 'Heroes, Season 1', 'Composer': None}\n",
      "{'Name': 'Heroes', 'Track': 'Five Years Gone', 'Album': 'Heroes, Season 1', 'Composer': None}\n",
      "{'Name': 'Heroes', 'Track': 'The Hard Part', 'Album': 'Heroes, Season 1', 'Composer': None}\n",
      "{'Name': 'Lost', 'Track': 'The Man Behind the Curtain', 'Album': 'Lost, Season 3', 'Composer': None}\n",
      "{'Name': 'Lost', 'Track': 'Greatest Hits', 'Album': 'Lost, Season 3', 'Composer': None}\n",
      "{'Name': 'Heroes', 'Track': 'Landslide', 'Album': 'Heroes, Season 1', 'Composer': None}\n",
      "{'Name': 'The Office', 'Track': 'The Office: An American Workplace (Pilot)', 'Album': 'The Office, Season 1', 'Composer': None}\n",
      "{'Name': 'The Office', 'Track': 'Diversity Day', 'Album': 'The Office, Season 1', 'Composer': None}\n",
      "{'Name': 'The Office', 'Track': 'Health Care', 'Album': 'The Office, Season 1', 'Composer': None}\n",
      "{'Name': 'The Office', 'Track': 'The Alliance', 'Album': 'The Office, Season 1', 'Composer': None}\n",
      "{'Name': 'The Office', 'Track': 'Basketball', 'Album': 'The Office, Season 1', 'Composer': None}\n",
      "{'Name': 'The Office', 'Track': 'Hot Girl', 'Album': 'The Office, Season 1', 'Composer': None}\n",
      "{'Name': 'The Office', 'Track': 'The Dundies', 'Album': 'The Office, Season 2', 'Composer': None}\n",
      "{'Name': 'The Office', 'Track': 'Sexual Harassment', 'Album': 'The Office, Season 2', 'Composer': None}\n",
      "{'Name': 'The Office', 'Track': 'Office Olympics', 'Album': 'The Office, Season 2', 'Composer': None}\n",
      "{'Name': 'The Office', 'Track': 'The Fire', 'Album': 'The Office, Season 2', 'Composer': None}\n",
      "{'Name': 'The Office', 'Track': 'Halloween', 'Album': 'The Office, Season 2', 'Composer': None}\n",
      "{'Name': 'The Office', 'Track': 'The Fight', 'Album': 'The Office, Season 2', 'Composer': None}\n",
      "{'Name': 'The Office', 'Track': 'The Client', 'Album': 'The Office, Season 2', 'Composer': None}\n",
      "{'Name': 'The Office', 'Track': 'Performance Review', 'Album': 'The Office, Season 2', 'Composer': None}\n",
      "{'Name': 'The Office', 'Track': 'Email Surveillance', 'Album': 'The Office, Season 2', 'Composer': None}\n",
      "{'Name': 'The Office', 'Track': 'Christmas Party', 'Album': 'The Office, Season 2', 'Composer': None}\n",
      "{'Name': 'The Office', 'Track': 'Booze Cruise', 'Album': 'The Office, Season 2', 'Composer': None}\n",
      "{'Name': 'The Office', 'Track': 'The Injury', 'Album': 'The Office, Season 2', 'Composer': None}\n",
      "{'Name': 'The Office', 'Track': 'The Secret', 'Album': 'The Office, Season 2', 'Composer': None}\n",
      "{'Name': 'The Office', 'Track': 'The Carpet', 'Album': 'The Office, Season 2', 'Composer': None}\n",
      "{'Name': 'The Office', 'Track': 'Boys and Girls', 'Album': 'The Office, Season 2', 'Composer': None}\n",
      "{'Name': 'The Office', 'Track': \"Valentine's Day\", 'Album': 'The Office, Season 2', 'Composer': None}\n",
      "{'Name': 'The Office', 'Track': \"Dwight's Speech\", 'Album': 'The Office, Season 2', 'Composer': None}\n",
      "{'Name': 'The Office', 'Track': 'Take Your Daughter to Work Day', 'Album': 'The Office, Season 2', 'Composer': None}\n",
      "{'Name': 'The Office', 'Track': \"Michael's Birthday\", 'Album': 'The Office, Season 2', 'Composer': None}\n",
      "{'Name': 'The Office', 'Track': 'Drug Testing', 'Album': 'The Office, Season 2', 'Composer': None}\n",
      "{'Name': 'The Office', 'Track': 'Conflict Resolution', 'Album': 'The Office, Season 2', 'Composer': None}\n",
      "{'Name': 'The Office', 'Track': 'Casino Night - Season Finale', 'Album': 'The Office, Season 2', 'Composer': None}\n",
      "{'Name': 'The Office', 'Track': 'Gay Witch Hunt', 'Album': 'The Office, Season 3', 'Composer': None}\n",
      "{'Name': 'The Office', 'Track': 'The Convention', 'Album': 'The Office, Season 3', 'Composer': None}\n",
      "{'Name': 'The Office', 'Track': 'The Coup', 'Album': 'The Office, Season 3', 'Composer': None}\n",
      "{'Name': 'The Office', 'Track': 'Grief Counseling', 'Album': 'The Office, Season 3', 'Composer': None}\n",
      "{'Name': 'The Office', 'Track': 'The Initiation', 'Album': 'The Office, Season 3', 'Composer': None}\n",
      "{'Name': 'The Office', 'Track': 'Diwali', 'Album': 'The Office, Season 3', 'Composer': None}\n",
      "{'Name': 'The Office', 'Track': 'Branch Closing', 'Album': 'The Office, Season 3', 'Composer': None}\n",
      "{'Name': 'The Office', 'Track': 'The Merger', 'Album': 'The Office, Season 3', 'Composer': None}\n",
      "{'Name': 'The Office', 'Track': 'The Convict', 'Album': 'The Office, Season 3', 'Composer': None}\n",
      "{'Name': 'The Office', 'Track': 'A Benihana Christmas, Pts. 1 & 2', 'Album': 'The Office, Season 3', 'Composer': None}\n",
      "{'Name': 'The Office', 'Track': 'Back from Vacation', 'Album': 'The Office, Season 3', 'Composer': None}\n",
      "{'Name': 'The Office', 'Track': 'Traveling Salesmen', 'Album': 'The Office, Season 3', 'Composer': None}\n",
      "{'Name': 'The Office', 'Track': \"Producer's Cut: The Return\", 'Album': 'The Office, Season 3', 'Composer': None}\n",
      "{'Name': 'The Office', 'Track': 'Ben Franklin', 'Album': 'The Office, Season 3', 'Composer': None}\n",
      "{'Name': 'The Office', 'Track': \"Phyllis's Wedding\", 'Album': 'The Office, Season 3', 'Composer': None}\n",
      "{'Name': 'The Office', 'Track': 'Business School', 'Album': 'The Office, Season 3', 'Composer': None}\n",
      "{'Name': 'The Office', 'Track': 'Cocktails', 'Album': 'The Office, Season 3', 'Composer': None}\n",
      "{'Name': 'The Office', 'Track': 'The Negotiation', 'Album': 'The Office, Season 3', 'Composer': None}\n",
      "{'Name': 'The Office', 'Track': 'Safety Training', 'Album': 'The Office, Season 3', 'Composer': None}\n",
      "{'Name': 'The Office', 'Track': 'Product Recall', 'Album': 'The Office, Season 3', 'Composer': None}\n",
      "{'Name': 'The Office', 'Track': \"Women's Appreciation\", 'Album': 'The Office, Season 3', 'Composer': None}\n",
      "{'Name': 'The Office', 'Track': 'Beach Games', 'Album': 'The Office, Season 3', 'Composer': None}\n",
      "{'Name': 'The Office', 'Track': 'The Job', 'Album': 'The Office, Season 3', 'Composer': None}\n",
      "{'Name': 'Heroes', 'Track': 'How to Stop an Exploding Man', 'Album': 'Heroes, Season 1', 'Composer': None}\n",
      "{'Name': 'Lost', 'Track': 'Through a Looking Glass', 'Album': 'Lost, Season 3', 'Composer': None}\n",
      "{'Name': 'Battlestar Galactica (Classic)', 'Track': 'Battlestar Galactica, Pt. 1', 'Album': 'Battlestar Galactica (Classic), Season 1', 'Composer': None}\n",
      "{'Name': 'Battlestar Galactica (Classic)', 'Track': 'Battlestar Galactica, Pt. 2', 'Album': 'Battlestar Galactica (Classic), Season 1', 'Composer': None}\n",
      "{'Name': 'Battlestar Galactica (Classic)', 'Track': 'Battlestar Galactica, Pt. 3', 'Album': 'Battlestar Galactica (Classic), Season 1', 'Composer': None}\n",
      "{'Name': 'Battlestar Galactica (Classic)', 'Track': 'Lost Planet of the Gods, Pt. 1', 'Album': 'Battlestar Galactica (Classic), Season 1', 'Composer': None}\n",
      "{'Name': 'Battlestar Galactica (Classic)', 'Track': 'Lost Planet of the Gods, Pt. 2', 'Album': 'Battlestar Galactica (Classic), Season 1', 'Composer': None}\n",
      "{'Name': 'Battlestar Galactica (Classic)', 'Track': 'The Lost Warrior', 'Album': 'Battlestar Galactica (Classic), Season 1', 'Composer': None}\n",
      "{'Name': 'Battlestar Galactica (Classic)', 'Track': 'The Long Patrol', 'Album': 'Battlestar Galactica (Classic), Season 1', 'Composer': None}\n",
      "{'Name': 'Battlestar Galactica (Classic)', 'Track': 'The Gun On Ice Planet Zero, Pt. 1', 'Album': 'Battlestar Galactica (Classic), Season 1', 'Composer': None}\n",
      "{'Name': 'Battlestar Galactica (Classic)', 'Track': 'The Gun On Ice Planet Zero, Pt. 2', 'Album': 'Battlestar Galactica (Classic), Season 1', 'Composer': None}\n",
      "{'Name': 'Battlestar Galactica (Classic)', 'Track': 'The Magnificent Warriors', 'Album': 'Battlestar Galactica (Classic), Season 1', 'Composer': None}\n",
      "{'Name': 'Battlestar Galactica (Classic)', 'Track': 'The Young Lords', 'Album': 'Battlestar Galactica (Classic), Season 1', 'Composer': None}\n",
      "{'Name': 'Battlestar Galactica (Classic)', 'Track': 'The Living Legend, Pt. 1', 'Album': 'Battlestar Galactica (Classic), Season 1', 'Composer': None}\n",
      "{'Name': 'Battlestar Galactica (Classic)', 'Track': 'The Living Legend, Pt. 2', 'Album': 'Battlestar Galactica (Classic), Season 1', 'Composer': None}\n",
      "{'Name': 'Battlestar Galactica (Classic)', 'Track': 'Fire In Space', 'Album': 'Battlestar Galactica (Classic), Season 1', 'Composer': None}\n",
      "{'Name': 'Battlestar Galactica (Classic)', 'Track': 'War of the Gods, Pt. 1', 'Album': 'Battlestar Galactica (Classic), Season 1', 'Composer': None}\n",
      "{'Name': 'Battlestar Galactica (Classic)', 'Track': 'War of the Gods, Pt. 2', 'Album': 'Battlestar Galactica (Classic), Season 1', 'Composer': None}\n",
      "{'Name': 'Battlestar Galactica (Classic)', 'Track': 'The Man With Nine Lives', 'Album': 'Battlestar Galactica (Classic), Season 1', 'Composer': None}\n",
      "{'Name': 'Battlestar Galactica (Classic)', 'Track': 'Murder On the Rising Star', 'Album': 'Battlestar Galactica (Classic), Season 1', 'Composer': None}\n",
      "{'Name': 'Battlestar Galactica (Classic)', 'Track': 'Greetings from Earth, Pt. 1', 'Album': 'Battlestar Galactica (Classic), Season 1', 'Composer': None}\n",
      "{'Name': 'Battlestar Galactica (Classic)', 'Track': 'Greetings from Earth, Pt. 2', 'Album': 'Battlestar Galactica (Classic), Season 1', 'Composer': None}\n",
      "{'Name': 'Battlestar Galactica (Classic)', 'Track': \"Baltar's Escape\", 'Album': 'Battlestar Galactica (Classic), Season 1', 'Composer': None}\n",
      "{'Name': 'Battlestar Galactica (Classic)', 'Track': 'Experiment In Terra', 'Album': 'Battlestar Galactica (Classic), Season 1', 'Composer': None}\n",
      "{'Name': 'Battlestar Galactica (Classic)', 'Track': 'Take the Celestra', 'Album': 'Battlestar Galactica (Classic), Season 1', 'Composer': None}\n",
      "{'Name': 'Battlestar Galactica (Classic)', 'Track': 'The Hand of God', 'Album': 'Battlestar Galactica (Classic), Season 1', 'Composer': None}\n",
      "{'Name': 'Aquaman', 'Track': 'Pilot', 'Album': 'Aquaman', 'Composer': None}\n",
      "{'Name': 'Lost', 'Track': 'Through the Looking Glass, Pt. 2', 'Album': 'Lost, Season 3', 'Composer': None}\n",
      "{'Name': 'Lost', 'Track': 'Through the Looking Glass, Pt. 1', 'Album': 'Lost, Season 3', 'Composer': None}\n",
      "{'Name': 'Lost', 'Track': 'Past, Present, and Future', 'Album': 'LOST, Season 4', 'Composer': None}\n",
      "{'Name': 'Lost', 'Track': 'The Beginning of the End', 'Album': 'LOST, Season 4', 'Composer': None}\n",
      "{'Name': 'Lost', 'Track': 'LOST Season 4 Trailer', 'Album': 'LOST, Season 4', 'Composer': None}\n",
      "{'Name': 'Lost', 'Track': 'LOST In 8:15', 'Album': 'LOST, Season 4', 'Composer': None}\n",
      "{'Name': 'Lost', 'Track': 'Confirmed Dead', 'Album': 'LOST, Season 4', 'Composer': None}\n",
      "{'Name': 'Lost', 'Track': 'The Economist', 'Album': 'LOST, Season 4', 'Composer': None}\n",
      "{'Name': 'Lost', 'Track': 'Eggtown', 'Album': 'LOST, Season 4', 'Composer': None}\n",
      "{'Name': 'Lost', 'Track': 'The Constant', 'Album': 'LOST, Season 4', 'Composer': None}\n",
      "{'Name': 'Lost', 'Track': 'The Other Woman', 'Album': 'LOST, Season 4', 'Composer': None}\n",
      "{'Name': 'Lost', 'Track': 'Ji Yeon', 'Album': 'LOST, Season 4', 'Composer': None}\n",
      "{'Name': 'Lost', 'Track': 'Meet Kevin Johnson', 'Album': 'LOST, Season 4', 'Composer': None}\n",
      "{'Name': 'Lost', 'Track': 'The Shape of Things to Come', 'Album': 'LOST, Season 4', 'Composer': None}\n",
      "{'Name': 'Lost', 'Track': 'Something Nice Back Home', 'Album': 'LOST, Season 4', 'Composer': None}\n",
      "{'Name': 'Lost', 'Track': 'Cabin Fever', 'Album': 'LOST, Season 4', 'Composer': None}\n",
      "{'Name': 'Lost', 'Track': \"There's No Place Like Home, Pt. 1\", 'Album': 'LOST, Season 4', 'Composer': None}\n",
      "{'Name': 'Lost', 'Track': \"There's No Place Like Home, Pt. 2\", 'Album': 'LOST, Season 4', 'Composer': None}\n",
      "{'Name': 'Lost', 'Track': \"There's No Place Like Home, Pt. 3\", 'Album': 'LOST, Season 4', 'Composer': None}\n",
      "{'Name': 'The Office', 'Track': 'Branch Closing', 'Album': 'The Office, Season 3', 'Composer': None}\n",
      "{'Name': 'The Office', 'Track': 'The Return', 'Album': 'The Office, Season 3', 'Composer': None}\n"
     ]
    }
   ],
   "source": [
    "cur.execute('SELECT artists.Name, tracks.Name AS Track, albums.Title AS Album, tracks.Composer FROM artists JOIN albums ON albums.ArtistId = artists.ArtistId JOIN tracks ON tracks.AlbumId = albums.AlbumId JOIN playlist_track ON playlist_track.TrackId = tracks.TrackId JOIN playlists ON playlists.PlaylistId = playlist_track.PlaylistId WHERE playlists.Name = \"TV Shows\"')\n",
    "for a in cur:\n",
    "    print(dict(a))"
   ]
  },
  {
   "cell_type": "markdown",
   "metadata": {},
   "source": [
    "## BONUS"
   ]
  },
  {
   "cell_type": "markdown",
   "metadata": {},
   "source": [
    "**BONUS.1** What is the least popular genre by number of purchases? Your SQL query should return **only one row**, giving the genre name and the number of purchases of songs in that genre."
   ]
  },
  {
   "cell_type": "code",
   "execution_count": null,
   "metadata": {},
   "outputs": [],
   "source": [
    "# CHANGE ME: insert code here"
   ]
  },
  {
   "cell_type": "markdown",
   "metadata": {},
   "source": [
    "**BONUS.2** For each country, list how many songs were purchased in each genre in that country. In the same query, also get the percentage of purchases in that country that were made up of each genre. For example, you should have a row for `\"Alternative & Punk\"` in `\"Argentina\"`, giving the count of songs (say, `10`) and the percent of all purchases in Argentina made up of Alternative & Punk songs (say, `.30`, i.e., 30%). (Note, these numbers are examples.)"
   ]
  },
  {
   "cell_type": "code",
   "execution_count": null,
   "metadata": {},
   "outputs": [],
   "source": [
    "# CHANGE ME: insert code here"
   ]
  },
  {
   "cell_type": "markdown",
   "metadata": {},
   "source": [
    "## Close the database"
   ]
  },
  {
   "cell_type": "code",
   "execution_count": 81,
   "metadata": {},
   "outputs": [],
   "source": [
    "con.close()"
   ]
  },
  {
   "cell_type": "code",
   "execution_count": null,
   "metadata": {},
   "outputs": [],
   "source": []
  }
 ],
 "metadata": {
  "kernelspec": {
   "display_name": "Python 3",
   "language": "python",
   "name": "python3"
  },
  "language_info": {
   "codemirror_mode": {
    "name": "ipython",
    "version": 3
   },
   "file_extension": ".py",
   "mimetype": "text/x-python",
   "name": "python",
   "nbconvert_exporter": "python",
   "pygments_lexer": "ipython3",
   "version": "3.6.5"
  }
 },
 "nbformat": 4,
 "nbformat_minor": 2
}
